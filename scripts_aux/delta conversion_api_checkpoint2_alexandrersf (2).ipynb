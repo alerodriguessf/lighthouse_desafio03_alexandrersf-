{
 "cells": [
  {
   "cell_type": "code",
   "execution_count": 0,
   "metadata": {
    "application/vnd.databricks.v1+cell": {
     "cellMetadata": {
      "byteLimit": 2048000,
      "rowLimit": 10000
     },
     "inputWidgets": {},
     "nuid": "552a4fe5-43cc-4974-a9f7-ef044b9b33c3",
     "showTitle": false,
     "tableResultSettingsMap": {},
     "title": ""
    }
   },
   "outputs": [],
   "source": [
    "\n",
    "# \uD83D\uDCE5 Ingestão de arquivos Parquet da API para tabelas Delta (camada Bronze)\n",
    "\n",
    "# COMMAND ----------\n",
    "# \uD83E\uDDF1 BLOCO 1 - Imports e Configurações Iniciais\n",
    "import re\n",
    "from pyspark.sql import SparkSession\n",
    "\n",
    "catalog = \"ted_dev\"\n",
    "schema = \"bronze\"\n",
    "caminho_api = \"/Volumes/ted_dev/bronze/raw/api/\"\n",
    "\n",
    "spark = SparkSession.builder.getOrCreate()\n",
    "\n"
   ]
  },
  {
   "cell_type": "code",
   "execution_count": 0,
   "metadata": {
    "application/vnd.databricks.v1+cell": {
     "cellMetadata": {
      "byteLimit": 2048000,
      "rowLimit": 10000
     },
     "inputWidgets": {},
     "nuid": "112b19ed-26d4-448b-beff-ab2ad3a409de",
     "showTitle": false,
     "tableResultSettingsMap": {},
     "title": ""
    }
   },
   "outputs": [],
   "source": [
    "# COMMAND ----------\n",
    "# \uD83E\uDDF1 BLOCO 2 - Função para normalizar nomes de tabela\n",
    "\n",
    "def normalizar_nome_tabela(caminho):\n",
    "    nome = caminho.rstrip(\"/\").split(\"/\")[-1]\n",
    "    nome = re.sub(r\"[^a-zA-Z0-9_]\", \"_\", nome).lower()\n",
    "    return f\"raw_api_{nome}_db\"\n"
   ]
  },
  {
   "cell_type": "code",
   "execution_count": 0,
   "metadata": {
    "application/vnd.databricks.v1+cell": {
     "cellMetadata": {
      "byteLimit": 2048000,
      "rowLimit": 10000
     },
     "inputWidgets": {},
     "nuid": "9a615178-e029-45e4-876d-c95d87b5b0e1",
     "showTitle": false,
     "tableResultSettingsMap": {},
     "title": ""
    }
   },
   "outputs": [],
   "source": [
    "# COMMAND ----------\n",
    "# \uD83E\uDDF1 BLOCO 3 - Função para criar tabela Delta a partir de uma subpasta\n",
    "\n",
    "def criar_tabela_gerenciada(caminho_base):\n",
    "    nome_tabela = normalizar_nome_tabela(caminho_base)\n",
    "    if not nome_tabela:\n",
    "        print(f\"❌ Nome inválido para: {caminho_base}\")\n",
    "        return\n",
    "\n",
    "    # Buscar arquivos .parquet dentro da subpasta (recursivamente)\n",
    "    arquivos_parquet = dbutils.fs.ls(caminho_base)\n",
    "    arquivos_validos = [f.path for f in arquivos_parquet if f.path.endswith(\".parquet\") or f.path.endswith(\".gz.parquet\")]\n",
    "\n",
    "    # Se não encontrar diretamente, entra recursivamente\n",
    "    if not arquivos_validos:\n",
    "        for subdir in arquivos_parquet:\n",
    "            if subdir.isDir():\n",
    "                sub_arquivos = dbutils.fs.ls(subdir.path)\n",
    "                arquivos_validos += [f.path for f in sub_arquivos if f.path.endswith(\".parquet\") or f.path.endswith(\".gz.parquet\")]\n",
    "\n",
    "    if not arquivos_validos:\n",
    "        print(f\"⚠️ Nenhum arquivo Parquet encontrado em: {caminho_base}\")\n",
    "        return\n",
    "\n",
    "    print(f\"\uD83D\uDCE6 Lendo arquivos: {arquivos_validos[:1]} ... (total: {len(arquivos_validos)})\")\n",
    "\n",
    "    # Lê todos os arquivos juntos\n",
    "    df = spark.read.format(\"parquet\").load(arquivos_validos)\n",
    "\n",
    "    # Remove a tabela do metastore, se existir\n",
    "    spark.sql(f\"DROP TABLE IF EXISTS {catalog}.{schema}.{nome_tabela}\")\n",
    "    \n",
    "    # Escreve como tabela Delta gerenciada\n",
    "    df.write.format(\"delta\")\\\n",
    "      .mode(\"overwrite\")\\\n",
    "      .saveAsTable(f\"{catalog}.{schema}.{nome_tabela}\")\n",
    "\n",
    "    print(f\"✅ Tabela {catalog}.{schema}.{nome_tabela} criada com sucesso!\")\n",
    "\n",
    "# COMMAND ----------"
   ]
  },
  {
   "cell_type": "code",
   "execution_count": 0,
   "metadata": {
    "application/vnd.databricks.v1+cell": {
     "cellMetadata": {
      "byteLimit": 2048000,
      "rowLimit": 10000
     },
     "inputWidgets": {},
     "nuid": "a3acde8a-5fa1-4c5a-bd42-cface25d8e7c",
     "showTitle": false,
     "tableResultSettingsMap": {},
     "title": ""
    }
   },
   "outputs": [
    {
     "output_type": "stream",
     "name": "stdout",
     "output_type": "stream",
     "text": [
      "\uD83D\uDCE6 Lendo arquivos: ['dbfs:/Volumes/ted_dev/bronze/raw/api/PurchaseOrderDetail/PurchaseOrderDetail-20250719_004511-0-0.gz.parquet'] ... (total: 1)\n✅ Tabela ted_dev.bronze.raw_api_purchaseorderdetail_db criada com sucesso!\n\uD83D\uDCE6 Lendo arquivos: ['dbfs:/Volumes/ted_dev/bronze/raw/api/PurchaseOrderHeader/PurchaseOrderHeader-20250719_004511-0-0.gz.parquet'] ... (total: 1)\n✅ Tabela ted_dev.bronze.raw_api_purchaseorderheader_db criada com sucesso!\n\uD83D\uDCE6 Lendo arquivos: ['dbfs:/Volumes/ted_dev/bronze/raw/api/SalesOrderDetail/SalesOrderDetail-20250719_004511-0-0.gz.parquet'] ... (total: 1)\n✅ Tabela ted_dev.bronze.raw_api_salesorderdetail_db criada com sucesso!\n\uD83D\uDCE6 Lendo arquivos: ['dbfs:/Volumes/ted_dev/bronze/raw/api/SalesOrderHeader/SalesOrderHeader-20250719_004511-0-0.gz.parquet'] ... (total: 1)\n✅ Tabela ted_dev.bronze.raw_api_salesorderheader_db criada com sucesso!\n\uD83C\uDF89 Processo concluído!\n"
     ]
    }
   ],
   "source": [
    "# \uD83E\uDDF1 BLOCO 4 - Loop para processar todas as subpastas\n",
    "subpastas = dbutils.fs.ls(caminho_api)\n",
    "\n",
    "for pasta in subpastas:\n",
    "    if pasta.isDir():\n",
    "        criar_tabela_gerenciada(pasta.path)\n",
    "\n",
    "print(\"\uD83C\uDF89 Processo concluído!\")"
   ]
  }
 ],
 "metadata": {
  "application/vnd.databricks.v1+notebook": {
   "computePreferences": null,
   "dashboards": [],
   "environmentMetadata": {
    "base_environment": "",
    "environment_version": "2"
   },
   "inputWidgetPreferences": null,
   "language": "python",
   "notebookMetadata": {
    "pythonIndentUnit": 4
   },
   "notebookName": "delta conversion_api_checkpoint2_alexandrersf",
   "widgets": {}
  },
  "language_info": {
   "name": "python"
  }
 },
 "nbformat": 4,
 "nbformat_minor": 0
}